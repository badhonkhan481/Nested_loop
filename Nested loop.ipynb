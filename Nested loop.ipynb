{
 "cells": [
  {
   "cell_type": "code",
   "execution_count": 9,
   "id": "e6ceeabe",
   "metadata": {},
   "outputs": [
    {
     "name": "stdout",
     "output_type": "stream",
     "text": [
      "#\n",
      "##\n",
      "###\n"
     ]
    }
   ],
   "source": [
    "rows=3\n",
    "#Outer Loop\n",
    "for x in range(1,rows+1):\n",
    "    #inner loop\n",
    "    for y in range(1, x+1):\n",
    "        print(\"#\", end='')\n",
    "    print(\"\")"
   ]
  },
  {
   "cell_type": "code",
   "execution_count": 11,
   "id": "dd471630",
   "metadata": {},
   "outputs": [
    {
     "name": "stdout",
     "output_type": "stream",
     "text": [
      "1234\n",
      "\n",
      "1234\n",
      "\n",
      "1234\n",
      "\n",
      "1234\n",
      "\n"
     ]
    }
   ],
   "source": [
    "num =[1,2,3,4]\n",
    "\n",
    "#outer\n",
    "for ele in num:\n",
    "    #inner\n",
    "    index=0\n",
    "    while index<len(num):\n",
    "        print(num[index], end='')\n",
    "        index=index+1\n",
    "    print('\\n')"
   ]
  },
  {
   "cell_type": "code",
   "execution_count": 22,
   "id": "b93c17a7",
   "metadata": {},
   "outputs": [
    {
     "name": "stdout",
     "output_type": "stream",
     "text": [
      "0\n",
      "1\n",
      "2\n"
     ]
    }
   ],
   "source": [
    "for i in range(0,3):\n",
    "    for j in range(0,1):\n",
    "        print(i)"
   ]
  },
  {
   "cell_type": "code",
   "execution_count": 65,
   "id": "1e2f9f0e",
   "metadata": {},
   "outputs": [
    {
     "name": "stdout",
     "output_type": "stream",
     "text": [
      "5\n",
      "     0\n",
      "    000\n",
      "   00000\n",
      "  0000000\n",
      " 000000000\n"
     ]
    }
   ],
   "source": [
    "#      0\n",
    "#     000\n",
    "#    00000\n",
    "#   0000000\n",
    "#  000000000\n",
    "\n",
    "\n",
    "pr= int(input())\n",
    "for i in range(0,pr):\n",
    "    for j in range(0, pr-i):\n",
    "        print(\" \", end='')\n",
    "    for k in range(0, 2*i + 1):\n",
    "        print(\"0\", end=\"\") \n",
    "    print(\"\")"
   ]
  },
  {
   "cell_type": "code",
   "execution_count": 75,
   "id": "7e1bd170",
   "metadata": {},
   "outputs": [
    {
     "name": "stdout",
     "output_type": "stream",
     "text": [
      "Enter Rows: 3\n",
      "1\n",
      "12\n",
      "123\n"
     ]
    }
   ],
   "source": [
    "#Pattern\n",
    "# 1\n",
    "# 12\n",
    "# 123\n",
    "\n",
    "n= int(input(\"Enter Rows: \"))\n",
    "\n",
    "for i in range(n):\n",
    "    for j in range(i+1):\n",
    "        print(j+1, end=\"\")\n",
    "    print()\n",
    "\n"
   ]
  },
  {
   "cell_type": "code",
   "execution_count": 85,
   "id": "c94c17c1",
   "metadata": {},
   "outputs": [
    {
     "name": "stdout",
     "output_type": "stream",
     "text": [
      "Enter Rows: 3\n",
      "1\n",
      "21\n",
      "321\n"
     ]
    }
   ],
   "source": [
    "#Pattern\n",
    "# 1\n",
    "# 21\n",
    "# 321\n",
    "\n",
    "\n",
    "n= int(input(\"Enter Rows: \"))\n",
    "\n",
    "for i in range(n):\n",
    "    for j in range(i, -1,-1):\n",
    "        print(j+1, end=\"\")\n",
    "    print()\n",
    "\n"
   ]
  },
  {
   "cell_type": "code",
   "execution_count": 132,
   "id": "4e8f933a",
   "metadata": {},
   "outputs": [
    {
     "name": "stdout",
     "output_type": "stream",
     "text": [
      "Enter Rows: 5\n",
      "5\n",
      "54\n",
      "543\n",
      "5432\n",
      "54321\n"
     ]
    }
   ],
   "source": [
    "\n",
    "# 5\n",
    "# 54\n",
    "# 543\n",
    "# 5432\n",
    "# 54321\n",
    "\n",
    "n= int(input(\"Enter Rows: \"))\n",
    "\n",
    "for i in range(n):\n",
    "    for j in range(i+1):\n",
    "        print(n-j, end=\"\")\n",
    "    print()\n"
   ]
  },
  {
   "cell_type": "code",
   "execution_count": 138,
   "id": "08c7e330",
   "metadata": {},
   "outputs": [
    {
     "name": "stdout",
     "output_type": "stream",
     "text": [
      "Enter Rows: 5\n",
      "5\n",
      "45\n",
      "345\n",
      "2345\n",
      "12345\n"
     ]
    }
   ],
   "source": [
    "# 5\n",
    "# 45\n",
    "# 345\n",
    "# 2345\n",
    "# 12345\n",
    "\n",
    "n= int(input(\"Enter Rows: \"))\n",
    "\n",
    "for i in range(n):\n",
    "    for j in range(i, -1, -1):\n",
    "        print(n-j, end=\"\")\n",
    "    print()\n"
   ]
  },
  {
   "cell_type": "code",
   "execution_count": 116,
   "id": "f8c612e2",
   "metadata": {},
   "outputs": [
    {
     "name": "stdout",
     "output_type": "stream",
     "text": [
      "Enter Rows: 3\n",
      "1\n",
      "22\n",
      "333\n"
     ]
    }
   ],
   "source": [
    "# 1\n",
    "# 22\n",
    "# 333\n",
    "\n",
    "n= int(input(\"Enter Rows: \"))\n",
    "\n",
    "for i in range(n):\n",
    "    for j in range(i+1):\n",
    "        print(i+1, end=\"\")\n",
    "    print()\n"
   ]
  },
  {
   "cell_type": "code",
   "execution_count": 113,
   "id": "26f84600",
   "metadata": {},
   "outputs": [
    {
     "name": "stdout",
     "output_type": "stream",
     "text": [
      "Enter Rows: 3\n",
      "3\n",
      "22\n",
      "111\n"
     ]
    }
   ],
   "source": [
    "# 3\n",
    "# 22\n",
    "# 111\n",
    "\n",
    "n= int(input(\"Enter Rows: \"))\n",
    "\n",
    "for i in range(n):\n",
    "    for j in range(i+1):\n",
    "        print(n-i, end=\"\")\n",
    "    print()\n"
   ]
  },
  {
   "cell_type": "code",
   "execution_count": 144,
   "id": "6e11b96f",
   "metadata": {},
   "outputs": [
    {
     "name": "stdout",
     "output_type": "stream",
     "text": [
      "Enter the row needed:5\n",
      "        1 \n",
      "      1 2 \n",
      "    1 2 3 \n",
      "  1 2 3 4 \n",
      "1 2 3 4 5 \n"
     ]
    }
   ],
   "source": [
    "#         1 \n",
    "#       1 2 \n",
    "#     1 2 3 \n",
    "#   1 2 3 4 \n",
    "# 1 2 3 4 5\n",
    "\n",
    "\n",
    "n =int (input(\"Enter the row needed:\"))\n",
    "for i in range(n):\n",
    "    for j in range(n-i-1):\n",
    "        print(\" \",end=\" \")\n",
    "    for j in range(i+1):\n",
    "        print(j+1, end=\" \")\n",
    "    print()"
   ]
  },
  {
   "cell_type": "code",
   "execution_count": 145,
   "id": "a47db301",
   "metadata": {},
   "outputs": [
    {
     "name": "stdout",
     "output_type": "stream",
     "text": [
      "Enter the row needed:5\n",
      "        1 \n",
      "      2 1 \n",
      "    3 2 1 \n",
      "  4 3 2 1 \n",
      "5 4 3 2 1 \n"
     ]
    }
   ],
   "source": [
    "#         1 \n",
    "#       2 1 \n",
    "#     3 2 1 \n",
    "#   4 3 2 1 \n",
    "# 5 4 3 2 1\n",
    "\n",
    "\n",
    "n =int (input(\"Enter the row needed:\"))\n",
    "for i in range(n):\n",
    "    for j in range(n-i-1):\n",
    "        print(\" \",end=\" \")\n",
    "    for j in range(i, -1, -1):\n",
    "        print(j+1, end=\" \")\n",
    "    print()"
   ]
  },
  {
   "cell_type": "code",
   "execution_count": 146,
   "id": "33ac4b46",
   "metadata": {},
   "outputs": [
    {
     "name": "stdout",
     "output_type": "stream",
     "text": [
      "Enter the row needed:5\n",
      "        1 \n",
      "      2 2 \n",
      "    3 3 3 \n",
      "  4 4 4 4 \n",
      "5 5 5 5 5 \n"
     ]
    }
   ],
   "source": [
    "#         1 \n",
    "#       2 2 \n",
    "#     3 3 3 \n",
    "#   4 4 4 4 \n",
    "# 5 5 5 5 5 \n",
    "\n",
    "n =int (input(\"Enter the row needed:\"))\n",
    "for i in range(n):\n",
    "    for j in range(n-i-1):\n",
    "        print(\" \",end=\" \")\n",
    "    for j in range(i, -1, -1):\n",
    "        print(i+1, end=\" \")\n",
    "    print()"
   ]
  },
  {
   "cell_type": "code",
   "execution_count": 150,
   "id": "dc01eafb",
   "metadata": {},
   "outputs": [
    {
     "name": "stdout",
     "output_type": "stream",
     "text": [
      "Enter the row needed:5\n",
      "        5 \n",
      "      4 4 \n",
      "    3 3 3 \n",
      "  2 2 2 2 \n",
      "1 1 1 1 1 \n"
     ]
    }
   ],
   "source": [
    "#         5 \n",
    "#       4 4 \n",
    "#     3 3 3 \n",
    "#   2 2 2 2 \n",
    "# 1 1 1 1 1\n",
    "n =int (input(\"Enter the row needed:\"))\n",
    "for i in range(n):\n",
    "    for j in range(n-i-1):\n",
    "        print(\" \",end=\" \")\n",
    "    for j in range(i, -1, -1):\n",
    "        print(n-i, end=\" \")\n",
    "    print()"
   ]
  },
  {
   "cell_type": "code",
   "execution_count": 151,
   "id": "238a7a4a",
   "metadata": {},
   "outputs": [
    {
     "name": "stdout",
     "output_type": "stream",
     "text": [
      "Enter the row needed:5\n",
      "        5 \n",
      "      5 4 \n",
      "    5 4 3 \n",
      "  5 4 3 2 \n",
      "5 4 3 2 1 \n"
     ]
    }
   ],
   "source": [
    "\n",
    "#         5 \n",
    "#       5 4 \n",
    "#     5 4 3 \n",
    "#   5 4 3 2 \n",
    "# 5 4 3 2 1 \n",
    "\n",
    "\n",
    "n =int (input(\"Enter the row needed:\"))\n",
    "for i in range(n):\n",
    "    for j in range(n-i-1):\n",
    "        print(\" \",end=\" \")\n",
    "    for j in range(i+1):\n",
    "        print(n-j , end=\" \")\n",
    "    print()"
   ]
  },
  {
   "cell_type": "code",
   "execution_count": 152,
   "id": "ae9cb151",
   "metadata": {},
   "outputs": [
    {
     "name": "stdout",
     "output_type": "stream",
     "text": [
      "Enter the row needed:5\n",
      "        5 \n",
      "      4 5 \n",
      "    3 4 5 \n",
      "  2 3 4 5 \n",
      "1 2 3 4 5 \n"
     ]
    }
   ],
   "source": [
    "n =int (input(\"Enter the row needed:\"))\n",
    "for i in range(n):\n",
    "    for j in range(n-i-1):\n",
    "        print(\" \",end=\" \")\n",
    "    for j in range(i, -1,-1):\n",
    "        print(n-j , end=\" \")\n",
    "    print()"
   ]
  },
  {
   "cell_type": "code",
   "execution_count": null,
   "id": "593f6954",
   "metadata": {},
   "outputs": [],
   "source": []
  }
 ],
 "metadata": {
  "kernelspec": {
   "display_name": "Python 3 (ipykernel)",
   "language": "python",
   "name": "python3"
  },
  "language_info": {
   "codemirror_mode": {
    "name": "ipython",
    "version": 3
   },
   "file_extension": ".py",
   "mimetype": "text/x-python",
   "name": "python",
   "nbconvert_exporter": "python",
   "pygments_lexer": "ipython3",
   "version": "3.9.13"
  }
 },
 "nbformat": 4,
 "nbformat_minor": 5
}
